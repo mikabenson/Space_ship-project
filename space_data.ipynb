{
 "cells": [
  {
   "cell_type": "markdown",
   "id": "060ff5da",
   "metadata": {},
   "source": [
    "## Final Project Submission\n",
    "\n",
    "Please fill out:\n",
    "* Student name: Mika Wambua Benson\n",
    "* Student pace: part-time\n",
    "* Scheduled project review date/time: 23/12/2024\n",
    "* Instructor name: Samuel Karu\n",
    "* Blog post URL: \n"
   ]
  },
  {
   "cell_type": "markdown",
   "id": "1c55499e",
   "metadata": {},
   "source": [
    "### Introduction\n",
    "\n",
    "Welcome to the year 2912, where your data science skills are needed to solve a cosmic mystery. We've received a transmission from four lightyears away and things aren't looking good.\n",
    "\n",
    "The Spaceship Titanic was an interstellar passenger liner launched a month ago. With almost 13,000 passengers on board, the vessel set out on its maiden voyage transporting emigrants from our solar system to three newly habitable exoplanets orbiting nearby stars.\n",
    "\n",
    "![image.png](attachment:6c01ff50-6b3b-4194-9d73-65a619c4465e.png)"
   ]
  },
  {
   "cell_type": "markdown",
   "id": "35027376",
   "metadata": {},
   "source": [
    "### Problem Statement\n",
    "While rounding Alpha Centauri en route to its first destination—the torrid 55 Cancri E—the unwary Spaceship Titanic collided with a spacetime anomaly hidden within a dust cloud. Sadly, it met a similar fate as its namesake from 1000 years before. Though the ship stayed intact, almost half of the passengers were transported to an alternate dimension!\n",
    "\n",
    "To help rescue crews and retrieve the lost passengers, you are challenged to predict which passengers were transported by the anomaly using records recovered from the spaceship’s damaged computer system.\n",
    "\n",
    "Help save them and change history!\n"
   ]
  },
  {
   "cell_type": "markdown",
   "id": "c8abfbe1",
   "metadata": {},
   "source": [
    "### Objectives\n",
    "1. Which HomePlanet had the highest Transportation rate for its passengers.\n",
    "\n",
    "2. Check whether the passenger being on CryoSleep contributed to the passengers being transported.\n",
    "\n",
    "3. Examine the trends for the passengers age that were transported to the another dimension. \n",
    "\n",
    "4. Develop the best machine learning algorith that predicts whether the passengers were transported or not."
   ]
  },
  {
   "cell_type": "markdown",
   "id": "b85ae023",
   "metadata": {},
   "source": [
    "### Data \n",
    "The dataset was extracted from :https://www.kaggle.com/competitions/st-2-ml-bootcamp/code\n"
   ]
  },
  {
   "cell_type": "markdown",
   "id": "fc57f1d6",
   "metadata": {},
   "source": [
    "## Importing necessary libraries"
   ]
  },
  {
   "cell_type": "code",
   "execution_count": 236,
   "id": "8ec149ca",
   "metadata": {},
   "outputs": [],
   "source": [
    "import pandas as pd\n",
    "import numpy as np\n",
    "import matplotlib.pyplot as plt\n",
    "import seaborn as sns\n",
    "from sklearn.metrics import roc_curve\n",
    "from sklearn.impute import SimpleImputer\n",
    "from sklearn.tree import DecisionTreeClassifier\n",
    "from sklearn.pipeline import Pipeline\n",
    "from imblearn.over_sampling import SMOTE\n",
    "from sklearn.preprocessing import MinMaxScaler, StandardScaler, OneHotEncoder, LabelEncoder\n",
    "from sklearn.linear_model import LogisticRegression\n",
    "from sklearn.model_selection import train_test_split, GridSearchCV\n",
    "from imblearn.under_sampling import RandomUnderSampler\n",
    "from sklearn.metrics import accuracy_score, classification_report, confusion_matrix, roc_curve, auc, roc_auc_score\n",
    "from sklearn.compose import ColumnTransformer\n",
    "\n",
    "import warnings\n",
    "warnings.filterwarnings(\"ignore\")"
   ]
  },
  {
   "cell_type": "markdown",
   "id": "844cec45",
   "metadata": {},
   "source": [
    "### Loading the files"
   ]
  },
  {
   "cell_type": "code",
   "execution_count": 150,
   "id": "3c475708",
   "metadata": {},
   "outputs": [],
   "source": [
    "data_s = pd.read_csv(\"sample_submission.csv\")\n",
    "data = pd.read_csv(\"train.csv\")\n",
    "data_t = pd.read_csv(\"test.csv\")"
   ]
  },
  {
   "cell_type": "code",
   "execution_count": 199,
   "id": "3acbbd6d",
   "metadata": {},
   "outputs": [
    {
     "data": {
      "text/html": [
       "<div>\n",
       "<style scoped>\n",
       "    .dataframe tbody tr th:only-of-type {\n",
       "        vertical-align: middle;\n",
       "    }\n",
       "\n",
       "    .dataframe tbody tr th {\n",
       "        vertical-align: top;\n",
       "    }\n",
       "\n",
       "    .dataframe thead th {\n",
       "        text-align: right;\n",
       "    }\n",
       "</style>\n",
       "<table border=\"1\" class=\"dataframe\">\n",
       "  <thead>\n",
       "    <tr style=\"text-align: right;\">\n",
       "      <th></th>\n",
       "      <th>HomePlanet</th>\n",
       "      <th>CryoSleep</th>\n",
       "      <th>Destination</th>\n",
       "      <th>Age</th>\n",
       "      <th>VIP</th>\n",
       "      <th>RoomService</th>\n",
       "      <th>FoodCourt</th>\n",
       "      <th>ShoppingMall</th>\n",
       "      <th>Spa</th>\n",
       "      <th>VRDeck</th>\n",
       "      <th>Transported</th>\n",
       "    </tr>\n",
       "  </thead>\n",
       "  <tbody>\n",
       "    <tr>\n",
       "      <th>0</th>\n",
       "      <td>Europa</td>\n",
       "      <td>False</td>\n",
       "      <td>TRAPPIST-1e</td>\n",
       "      <td>39.0</td>\n",
       "      <td>False</td>\n",
       "      <td>0.0</td>\n",
       "      <td>0.0</td>\n",
       "      <td>0.0</td>\n",
       "      <td>0.0</td>\n",
       "      <td>0.0</td>\n",
       "      <td>False</td>\n",
       "    </tr>\n",
       "    <tr>\n",
       "      <th>1</th>\n",
       "      <td>Earth</td>\n",
       "      <td>False</td>\n",
       "      <td>TRAPPIST-1e</td>\n",
       "      <td>24.0</td>\n",
       "      <td>False</td>\n",
       "      <td>109.0</td>\n",
       "      <td>9.0</td>\n",
       "      <td>25.0</td>\n",
       "      <td>549.0</td>\n",
       "      <td>44.0</td>\n",
       "      <td>True</td>\n",
       "    </tr>\n",
       "    <tr>\n",
       "      <th>2</th>\n",
       "      <td>Europa</td>\n",
       "      <td>False</td>\n",
       "      <td>TRAPPIST-1e</td>\n",
       "      <td>58.0</td>\n",
       "      <td>True</td>\n",
       "      <td>43.0</td>\n",
       "      <td>3576.0</td>\n",
       "      <td>0.0</td>\n",
       "      <td>6715.0</td>\n",
       "      <td>49.0</td>\n",
       "      <td>False</td>\n",
       "    </tr>\n",
       "    <tr>\n",
       "      <th>3</th>\n",
       "      <td>Europa</td>\n",
       "      <td>False</td>\n",
       "      <td>TRAPPIST-1e</td>\n",
       "      <td>33.0</td>\n",
       "      <td>False</td>\n",
       "      <td>0.0</td>\n",
       "      <td>1283.0</td>\n",
       "      <td>371.0</td>\n",
       "      <td>3329.0</td>\n",
       "      <td>193.0</td>\n",
       "      <td>False</td>\n",
       "    </tr>\n",
       "    <tr>\n",
       "      <th>4</th>\n",
       "      <td>Earth</td>\n",
       "      <td>False</td>\n",
       "      <td>TRAPPIST-1e</td>\n",
       "      <td>16.0</td>\n",
       "      <td>False</td>\n",
       "      <td>303.0</td>\n",
       "      <td>70.0</td>\n",
       "      <td>151.0</td>\n",
       "      <td>565.0</td>\n",
       "      <td>2.0</td>\n",
       "      <td>True</td>\n",
       "    </tr>\n",
       "  </tbody>\n",
       "</table>\n",
       "</div>"
      ],
      "text/plain": [
       "  HomePlanet CryoSleep  Destination   Age    VIP  RoomService  FoodCourt  \\\n",
       "0     Europa     False  TRAPPIST-1e  39.0  False          0.0        0.0   \n",
       "1      Earth     False  TRAPPIST-1e  24.0  False        109.0        9.0   \n",
       "2     Europa     False  TRAPPIST-1e  58.0   True         43.0     3576.0   \n",
       "3     Europa     False  TRAPPIST-1e  33.0  False          0.0     1283.0   \n",
       "4      Earth     False  TRAPPIST-1e  16.0  False        303.0       70.0   \n",
       "\n",
       "   ShoppingMall     Spa  VRDeck  Transported  \n",
       "0           0.0     0.0     0.0        False  \n",
       "1          25.0   549.0    44.0         True  \n",
       "2           0.0  6715.0    49.0        False  \n",
       "3         371.0  3329.0   193.0        False  \n",
       "4         151.0   565.0     2.0         True  "
      ]
     },
     "execution_count": 199,
     "metadata": {},
     "output_type": "execute_result"
    }
   ],
   "source": [
    "# check the first few rows for the train csv file\n",
    "data.head()"
   ]
  },
  {
   "cell_type": "markdown",
   "id": "066c96e8",
   "metadata": {},
   "source": [
    "## Data Understanding\n",
    "\n",
    "* train.csv - Personal records for about two-thirds (~8700) of the passengers, to be used as training data.\n",
    "\n",
    "* PassengerId - A unique Id for each passenger. Each Id takes the form 0001_01 where 0001 indicates a group the passenger is travelling with and 01 is their number within the group. People in a group are often family members, but not always.\n",
    "\n",
    "* HomePlanet - The planet the passenger departed from, typically their planet of permanent residence.\n",
    "\n",
    "* CryoSleep - Indicates whether the passenger elected to be put into suspended animation for the duration of the voyage. Passengers in cryosleep are confined to their cabins.\n",
    "\n",
    "* Cabin - The cabin number where the passenger is staying. Takes the form deck/num/side, where side can be either P for Port or S for Starboard.\n",
    "\n",
    "* Destination - The planet the passenger will be debarking to.\n",
    "\n",
    "* Age - The age of the passenger.\n",
    "\n",
    "* VIP - Whether the passenger has paid for special VIP service during the voyage.\n",
    "\n",
    "* RoomService, FoodCourt, ShoppingMall, Spa, VRDeck - Amount the passenger has billed at each of the Spaceship Titanic's many luxury amenities.\n",
    "\n",
    "* Name - The first and last names of the passenger.\n",
    "\n",
    "* Transported - Whether the passenger was transported to another dimension. This is the target, the column you are trying to predict.\n",
    "\n",
    "* test.csv - Personal records for the remaining one-third (~4300) of the passengers, to be used as test data. Your task is to predict the value of Transported for the passengers in this set.\n",
    "\n",
    "* sample_submission.csv - A submission file in the correct format.\n",
    "\n",
    "* PassengerId - Id for each passenger in the test set.\n",
    "\n",
    "* Transported - The target. For each passenger, predict either True or False."
   ]
  },
  {
   "cell_type": "code",
   "execution_count": 151,
   "id": "0e953999",
   "metadata": {},
   "outputs": [
    {
     "name": "stdout",
     "output_type": "stream",
     "text": [
      "(8693, 14)\n"
     ]
    }
   ],
   "source": [
    "print(data.shape)"
   ]
  },
  {
   "cell_type": "code",
   "execution_count": 152,
   "id": "c40c5496-cf96-4c79-ade9-4fbb05e158c7",
   "metadata": {},
   "outputs": [
    {
     "name": "stdout",
     "output_type": "stream",
     "text": [
      "<class 'pandas.core.frame.DataFrame'>\n",
      "RangeIndex: 8693 entries, 0 to 8692\n",
      "Data columns (total 14 columns):\n",
      " #   Column        Non-Null Count  Dtype  \n",
      "---  ------        --------------  -----  \n",
      " 0   PassengerId   8693 non-null   object \n",
      " 1   HomePlanet    8492 non-null   object \n",
      " 2   CryoSleep     8476 non-null   object \n",
      " 3   Cabin         8494 non-null   object \n",
      " 4   Destination   8511 non-null   object \n",
      " 5   Age           8514 non-null   float64\n",
      " 6   VIP           8490 non-null   object \n",
      " 7   RoomService   8512 non-null   float64\n",
      " 8   FoodCourt     8510 non-null   float64\n",
      " 9   ShoppingMall  8485 non-null   float64\n",
      " 10  Spa           8510 non-null   float64\n",
      " 11  VRDeck        8505 non-null   float64\n",
      " 12  Name          8493 non-null   object \n",
      " 13  Transported   8693 non-null   bool   \n",
      "dtypes: bool(1), float64(6), object(7)\n",
      "memory usage: 891.5+ KB\n"
     ]
    }
   ],
   "source": [
    "data.info()"
   ]
  },
  {
   "cell_type": "code",
   "execution_count": 153,
   "id": "03eee15d",
   "metadata": {},
   "outputs": [
    {
     "data": {
      "text/html": [
       "<div>\n",
       "<style scoped>\n",
       "    .dataframe tbody tr th:only-of-type {\n",
       "        vertical-align: middle;\n",
       "    }\n",
       "\n",
       "    .dataframe tbody tr th {\n",
       "        vertical-align: top;\n",
       "    }\n",
       "\n",
       "    .dataframe thead th {\n",
       "        text-align: right;\n",
       "    }\n",
       "</style>\n",
       "<table border=\"1\" class=\"dataframe\">\n",
       "  <thead>\n",
       "    <tr style=\"text-align: right;\">\n",
       "      <th></th>\n",
       "      <th>HomePlanet</th>\n",
       "      <th>CryoSleep</th>\n",
       "      <th>Destination</th>\n",
       "      <th>Age</th>\n",
       "      <th>VIP</th>\n",
       "      <th>RoomService</th>\n",
       "      <th>FoodCourt</th>\n",
       "      <th>ShoppingMall</th>\n",
       "      <th>Spa</th>\n",
       "      <th>VRDeck</th>\n",
       "      <th>Transported</th>\n",
       "    </tr>\n",
       "  </thead>\n",
       "  <tbody>\n",
       "    <tr>\n",
       "      <th>0</th>\n",
       "      <td>Europa</td>\n",
       "      <td>False</td>\n",
       "      <td>TRAPPIST-1e</td>\n",
       "      <td>39.0</td>\n",
       "      <td>False</td>\n",
       "      <td>0.0</td>\n",
       "      <td>0.0</td>\n",
       "      <td>0.0</td>\n",
       "      <td>0.0</td>\n",
       "      <td>0.0</td>\n",
       "      <td>False</td>\n",
       "    </tr>\n",
       "    <tr>\n",
       "      <th>1</th>\n",
       "      <td>Earth</td>\n",
       "      <td>False</td>\n",
       "      <td>TRAPPIST-1e</td>\n",
       "      <td>24.0</td>\n",
       "      <td>False</td>\n",
       "      <td>109.0</td>\n",
       "      <td>9.0</td>\n",
       "      <td>25.0</td>\n",
       "      <td>549.0</td>\n",
       "      <td>44.0</td>\n",
       "      <td>True</td>\n",
       "    </tr>\n",
       "    <tr>\n",
       "      <th>2</th>\n",
       "      <td>Europa</td>\n",
       "      <td>False</td>\n",
       "      <td>TRAPPIST-1e</td>\n",
       "      <td>58.0</td>\n",
       "      <td>True</td>\n",
       "      <td>43.0</td>\n",
       "      <td>3576.0</td>\n",
       "      <td>0.0</td>\n",
       "      <td>6715.0</td>\n",
       "      <td>49.0</td>\n",
       "      <td>False</td>\n",
       "    </tr>\n",
       "    <tr>\n",
       "      <th>3</th>\n",
       "      <td>Europa</td>\n",
       "      <td>False</td>\n",
       "      <td>TRAPPIST-1e</td>\n",
       "      <td>33.0</td>\n",
       "      <td>False</td>\n",
       "      <td>0.0</td>\n",
       "      <td>1283.0</td>\n",
       "      <td>371.0</td>\n",
       "      <td>3329.0</td>\n",
       "      <td>193.0</td>\n",
       "      <td>False</td>\n",
       "    </tr>\n",
       "    <tr>\n",
       "      <th>4</th>\n",
       "      <td>Earth</td>\n",
       "      <td>False</td>\n",
       "      <td>TRAPPIST-1e</td>\n",
       "      <td>16.0</td>\n",
       "      <td>False</td>\n",
       "      <td>303.0</td>\n",
       "      <td>70.0</td>\n",
       "      <td>151.0</td>\n",
       "      <td>565.0</td>\n",
       "      <td>2.0</td>\n",
       "      <td>True</td>\n",
       "    </tr>\n",
       "  </tbody>\n",
       "</table>\n",
       "</div>"
      ],
      "text/plain": [
       "  HomePlanet CryoSleep  Destination   Age    VIP  RoomService  FoodCourt  \\\n",
       "0     Europa     False  TRAPPIST-1e  39.0  False          0.0        0.0   \n",
       "1      Earth     False  TRAPPIST-1e  24.0  False        109.0        9.0   \n",
       "2     Europa     False  TRAPPIST-1e  58.0   True         43.0     3576.0   \n",
       "3     Europa     False  TRAPPIST-1e  33.0  False          0.0     1283.0   \n",
       "4      Earth     False  TRAPPIST-1e  16.0  False        303.0       70.0   \n",
       "\n",
       "   ShoppingMall     Spa  VRDeck  Transported  \n",
       "0           0.0     0.0     0.0        False  \n",
       "1          25.0   549.0    44.0         True  \n",
       "2           0.0  6715.0    49.0        False  \n",
       "3         371.0  3329.0   193.0        False  \n",
       "4         151.0   565.0     2.0         True  "
      ]
     },
     "execution_count": 153,
     "metadata": {},
     "output_type": "execute_result"
    }
   ],
   "source": [
    "# select the columns to work with\n",
    "selected_columns = data.drop(columns = ['PassengerId', 'Name', 'Cabin'])\n",
    "selected_columns.head()"
   ]
  },
  {
   "cell_type": "markdown",
   "id": "27421e6f-75d0-4f26-b5df-b5bbfb815212",
   "metadata": {},
   "source": [
    "## Data Preparation"
   ]
  },
  {
   "cell_type": "code",
   "execution_count": 154,
   "id": "f227156e-8e1e-4f11-b20b-afe065d91f94",
   "metadata": {},
   "outputs": [
    {
     "data": {
      "text/html": [
       "<div>\n",
       "<style scoped>\n",
       "    .dataframe tbody tr th:only-of-type {\n",
       "        vertical-align: middle;\n",
       "    }\n",
       "\n",
       "    .dataframe tbody tr th {\n",
       "        vertical-align: top;\n",
       "    }\n",
       "\n",
       "    .dataframe thead th {\n",
       "        text-align: right;\n",
       "    }\n",
       "</style>\n",
       "<table border=\"1\" class=\"dataframe\">\n",
       "  <thead>\n",
       "    <tr style=\"text-align: right;\">\n",
       "      <th></th>\n",
       "      <th>HomePlanet</th>\n",
       "      <th>CryoSleep</th>\n",
       "      <th>Destination</th>\n",
       "      <th>Age</th>\n",
       "      <th>VIP</th>\n",
       "      <th>RoomService</th>\n",
       "      <th>FoodCourt</th>\n",
       "      <th>ShoppingMall</th>\n",
       "      <th>Spa</th>\n",
       "      <th>VRDeck</th>\n",
       "      <th>Transported</th>\n",
       "    </tr>\n",
       "  </thead>\n",
       "  <tbody>\n",
       "    <tr>\n",
       "      <th>0</th>\n",
       "      <td>Europa</td>\n",
       "      <td>False</td>\n",
       "      <td>TRAPPIST-1e</td>\n",
       "      <td>39.0</td>\n",
       "      <td>False</td>\n",
       "      <td>0.0</td>\n",
       "      <td>0.0</td>\n",
       "      <td>0.0</td>\n",
       "      <td>0.0</td>\n",
       "      <td>0.0</td>\n",
       "      <td>False</td>\n",
       "    </tr>\n",
       "    <tr>\n",
       "      <th>1</th>\n",
       "      <td>Earth</td>\n",
       "      <td>False</td>\n",
       "      <td>TRAPPIST-1e</td>\n",
       "      <td>24.0</td>\n",
       "      <td>False</td>\n",
       "      <td>109.0</td>\n",
       "      <td>9.0</td>\n",
       "      <td>25.0</td>\n",
       "      <td>549.0</td>\n",
       "      <td>44.0</td>\n",
       "      <td>True</td>\n",
       "    </tr>\n",
       "    <tr>\n",
       "      <th>2</th>\n",
       "      <td>Europa</td>\n",
       "      <td>False</td>\n",
       "      <td>TRAPPIST-1e</td>\n",
       "      <td>58.0</td>\n",
       "      <td>True</td>\n",
       "      <td>43.0</td>\n",
       "      <td>3576.0</td>\n",
       "      <td>0.0</td>\n",
       "      <td>6715.0</td>\n",
       "      <td>49.0</td>\n",
       "      <td>False</td>\n",
       "    </tr>\n",
       "    <tr>\n",
       "      <th>3</th>\n",
       "      <td>Europa</td>\n",
       "      <td>False</td>\n",
       "      <td>TRAPPIST-1e</td>\n",
       "      <td>33.0</td>\n",
       "      <td>False</td>\n",
       "      <td>0.0</td>\n",
       "      <td>1283.0</td>\n",
       "      <td>371.0</td>\n",
       "      <td>3329.0</td>\n",
       "      <td>193.0</td>\n",
       "      <td>False</td>\n",
       "    </tr>\n",
       "    <tr>\n",
       "      <th>4</th>\n",
       "      <td>Earth</td>\n",
       "      <td>False</td>\n",
       "      <td>TRAPPIST-1e</td>\n",
       "      <td>16.0</td>\n",
       "      <td>False</td>\n",
       "      <td>303.0</td>\n",
       "      <td>70.0</td>\n",
       "      <td>151.0</td>\n",
       "      <td>565.0</td>\n",
       "      <td>2.0</td>\n",
       "      <td>True</td>\n",
       "    </tr>\n",
       "  </tbody>\n",
       "</table>\n",
       "</div>"
      ],
      "text/plain": [
       "  HomePlanet CryoSleep  Destination   Age    VIP  RoomService  FoodCourt  \\\n",
       "0     Europa     False  TRAPPIST-1e  39.0  False          0.0        0.0   \n",
       "1      Earth     False  TRAPPIST-1e  24.0  False        109.0        9.0   \n",
       "2     Europa     False  TRAPPIST-1e  58.0   True         43.0     3576.0   \n",
       "3     Europa     False  TRAPPIST-1e  33.0  False          0.0     1283.0   \n",
       "4      Earth     False  TRAPPIST-1e  16.0  False        303.0       70.0   \n",
       "\n",
       "   ShoppingMall     Spa  VRDeck  Transported  \n",
       "0           0.0     0.0     0.0        False  \n",
       "1          25.0   549.0    44.0         True  \n",
       "2           0.0  6715.0    49.0        False  \n",
       "3         371.0  3329.0   193.0        False  \n",
       "4         151.0   565.0     2.0         True  "
      ]
     },
     "execution_count": 154,
     "metadata": {},
     "output_type": "execute_result"
    }
   ],
   "source": [
    "# create a copy before cleaning \n",
    "data = selected_columns.copy()\n",
    "data.head()"
   ]
  },
  {
   "cell_type": "code",
   "execution_count": 202,
   "id": "178ca872",
   "metadata": {},
   "outputs": [
    {
     "data": {
      "text/plain": [
       "0"
      ]
     },
     "execution_count": 202,
     "metadata": {},
     "output_type": "execute_result"
    }
   ],
   "source": [
    "# Drop the duplicates values in the dataset\n",
    "data = data.drop_duplicates()\n",
    "data.duplicated().sum()"
   ]
  },
  {
   "cell_type": "code",
   "execution_count": 203,
   "id": "0f19d2d0-a35e-4960-9d96-2942ed331763",
   "metadata": {},
   "outputs": [
    {
     "data": {
      "text/plain": [
       "(6427, 11)"
      ]
     },
     "execution_count": 203,
     "metadata": {},
     "output_type": "execute_result"
    }
   ],
   "source": [
    "# check the number of rows and column\n",
    "data.shape"
   ]
  },
  {
   "cell_type": "markdown",
   "id": "98e4f972-b8d7-4f26-8455-8cd2c12757b7",
   "metadata": {},
   "source": [
    "## Handle missing values"
   ]
  },
  {
   "cell_type": "code",
   "execution_count": 205,
   "id": "7564b749",
   "metadata": {},
   "outputs": [],
   "source": [
    "# create a copy before cleaning the dataset.\n",
    "clean_data = data.copy()\n",
    "data_1 = clean_data"
   ]
  },
  {
   "cell_type": "code",
   "execution_count": 206,
   "id": "9a1a1f52-1eeb-4688-b4ad-ee23425bb88f",
   "metadata": {},
   "outputs": [
    {
     "data": {
      "text/plain": [
       "CryoSleep       208\n",
       "ShoppingMall    199\n",
       "VIP             191\n",
       "HomePlanet      186\n",
       "Spa             182\n",
       "VRDeck          182\n",
       "Destination     178\n",
       "RoomService     178\n",
       "FoodCourt       175\n",
       "Age             120\n",
       "Transported       0\n",
       "dtype: int64"
      ]
     },
     "execution_count": 206,
     "metadata": {},
     "output_type": "execute_result"
    }
   ],
   "source": [
    "data_1.isna().sum().sort_values(ascending = False)"
   ]
  },
  {
   "cell_type": "code",
   "execution_count": 207,
   "id": "5c8eb7d0",
   "metadata": {},
   "outputs": [],
   "source": [
    "# Handle the rows with missing values for the categorical columns.\n",
    "check_columns = ['CryoSleep', 'VIP', 'HomePlanet', 'Destination']\n",
    "data_1 = data_1.dropna(subset = check_columns)\n"
   ]
  },
  {
   "cell_type": "code",
   "execution_count": 208,
   "id": "9d581830-72c1-461b-9aeb-c50ff2aed9ed",
   "metadata": {},
   "outputs": [],
   "source": [
    "# handle the missing values in continous variables\n",
    "data_1['Age'] = data_1['Age'].fillna(data_1['Age'].median())\n",
    "data_1['RoomService'] = data_1['RoomService'].fillna(0)\n",
    "data_1['VRDeck'] = data_1['VRDeck'].fillna(0)\n",
    "data_1['Spa'] = data_1['Spa'].fillna(data_1['Spa'].median())\n",
    "data_1['FoodCourt'] = data_1['FoodCourt'].fillna(0)\n",
    "data_1['ShoppingMall'] = data_1['ShoppingMall'].fillna(data_1['ShoppingMall'].median())\n"
   ]
  },
  {
   "cell_type": "code",
   "execution_count": 209,
   "id": "6c39cfc6",
   "metadata": {},
   "outputs": [
    {
     "data": {
      "text/plain": [
       "(5687, 11)"
      ]
     },
     "execution_count": 209,
     "metadata": {},
     "output_type": "execute_result"
    }
   ],
   "source": [
    "data_1.shape"
   ]
  },
  {
   "cell_type": "code",
   "execution_count": 210,
   "id": "1ac5f12d-59dd-4946-9186-280292844a09",
   "metadata": {},
   "outputs": [
    {
     "data": {
      "text/plain": [
       "HomePlanet      0\n",
       "CryoSleep       0\n",
       "Destination     0\n",
       "Age             0\n",
       "VIP             0\n",
       "RoomService     0\n",
       "FoodCourt       0\n",
       "ShoppingMall    0\n",
       "Spa             0\n",
       "VRDeck          0\n",
       "Transported     0\n",
       "dtype: int64"
      ]
     },
     "execution_count": 210,
     "metadata": {},
     "output_type": "execute_result"
    }
   ],
   "source": [
    "data_1.isna().sum().sort_values(ascending = False)"
   ]
  },
  {
   "cell_type": "code",
   "execution_count": 211,
   "id": "81b57cd9",
   "metadata": {},
   "outputs": [
    {
     "data": {
      "text/html": [
       "<div>\n",
       "<style scoped>\n",
       "    .dataframe tbody tr th:only-of-type {\n",
       "        vertical-align: middle;\n",
       "    }\n",
       "\n",
       "    .dataframe tbody tr th {\n",
       "        vertical-align: top;\n",
       "    }\n",
       "\n",
       "    .dataframe thead th {\n",
       "        text-align: right;\n",
       "    }\n",
       "</style>\n",
       "<table border=\"1\" class=\"dataframe\">\n",
       "  <thead>\n",
       "    <tr style=\"text-align: right;\">\n",
       "      <th></th>\n",
       "      <th>HomePlanet</th>\n",
       "      <th>CryoSleep</th>\n",
       "      <th>Destination</th>\n",
       "      <th>Age</th>\n",
       "      <th>VIP</th>\n",
       "      <th>RoomService</th>\n",
       "      <th>FoodCourt</th>\n",
       "      <th>ShoppingMall</th>\n",
       "      <th>Spa</th>\n",
       "      <th>VRDeck</th>\n",
       "      <th>Transported</th>\n",
       "    </tr>\n",
       "  </thead>\n",
       "  <tbody>\n",
       "    <tr>\n",
       "      <th>0</th>\n",
       "      <td>Europa</td>\n",
       "      <td>False</td>\n",
       "      <td>TRAPPIST-1e</td>\n",
       "      <td>39.0</td>\n",
       "      <td>False</td>\n",
       "      <td>0.0</td>\n",
       "      <td>0.0</td>\n",
       "      <td>0.0</td>\n",
       "      <td>0.0</td>\n",
       "      <td>0.0</td>\n",
       "      <td>False</td>\n",
       "    </tr>\n",
       "    <tr>\n",
       "      <th>1</th>\n",
       "      <td>Earth</td>\n",
       "      <td>False</td>\n",
       "      <td>TRAPPIST-1e</td>\n",
       "      <td>24.0</td>\n",
       "      <td>False</td>\n",
       "      <td>109.0</td>\n",
       "      <td>9.0</td>\n",
       "      <td>25.0</td>\n",
       "      <td>549.0</td>\n",
       "      <td>44.0</td>\n",
       "      <td>True</td>\n",
       "    </tr>\n",
       "    <tr>\n",
       "      <th>2</th>\n",
       "      <td>Europa</td>\n",
       "      <td>False</td>\n",
       "      <td>TRAPPIST-1e</td>\n",
       "      <td>58.0</td>\n",
       "      <td>True</td>\n",
       "      <td>43.0</td>\n",
       "      <td>3576.0</td>\n",
       "      <td>0.0</td>\n",
       "      <td>6715.0</td>\n",
       "      <td>49.0</td>\n",
       "      <td>False</td>\n",
       "    </tr>\n",
       "    <tr>\n",
       "      <th>3</th>\n",
       "      <td>Europa</td>\n",
       "      <td>False</td>\n",
       "      <td>TRAPPIST-1e</td>\n",
       "      <td>33.0</td>\n",
       "      <td>False</td>\n",
       "      <td>0.0</td>\n",
       "      <td>1283.0</td>\n",
       "      <td>371.0</td>\n",
       "      <td>3329.0</td>\n",
       "      <td>193.0</td>\n",
       "      <td>False</td>\n",
       "    </tr>\n",
       "    <tr>\n",
       "      <th>4</th>\n",
       "      <td>Earth</td>\n",
       "      <td>False</td>\n",
       "      <td>TRAPPIST-1e</td>\n",
       "      <td>16.0</td>\n",
       "      <td>False</td>\n",
       "      <td>303.0</td>\n",
       "      <td>70.0</td>\n",
       "      <td>151.0</td>\n",
       "      <td>565.0</td>\n",
       "      <td>2.0</td>\n",
       "      <td>True</td>\n",
       "    </tr>\n",
       "  </tbody>\n",
       "</table>\n",
       "</div>"
      ],
      "text/plain": [
       "  HomePlanet CryoSleep  Destination   Age    VIP  RoomService  FoodCourt  \\\n",
       "0     Europa     False  TRAPPIST-1e  39.0  False          0.0        0.0   \n",
       "1      Earth     False  TRAPPIST-1e  24.0  False        109.0        9.0   \n",
       "2     Europa     False  TRAPPIST-1e  58.0   True         43.0     3576.0   \n",
       "3     Europa     False  TRAPPIST-1e  33.0  False          0.0     1283.0   \n",
       "4      Earth     False  TRAPPIST-1e  16.0  False        303.0       70.0   \n",
       "\n",
       "   ShoppingMall     Spa  VRDeck  Transported  \n",
       "0           0.0     0.0     0.0        False  \n",
       "1          25.0   549.0    44.0         True  \n",
       "2           0.0  6715.0    49.0        False  \n",
       "3         371.0  3329.0   193.0        False  \n",
       "4         151.0   565.0     2.0         True  "
      ]
     },
     "execution_count": 211,
     "metadata": {},
     "output_type": "execute_result"
    }
   ],
   "source": [
    "data_1.head()"
   ]
  },
  {
   "cell_type": "code",
   "execution_count": 215,
   "id": "a8c59a1e",
   "metadata": {},
   "outputs": [
    {
     "name": "stdout",
     "output_type": "stream",
     "text": [
      "HomePlanet\n",
      "Europa    0.492123\n",
      "Mars      0.345217\n",
      "Earth     0.342072\n",
      "Name: Transported, dtype: float64\n"
     ]
    }
   ],
   "source": [
    "# Analysis for the planet that had the highest percentage being transported\n",
    "planet_transported = data_1.groupby(\"HomePlanet\")[\"Transported\"].mean().sort_values(ascending = False)\n",
    "print(planet_transported)\n",
    "\n",
    "# The passengers from Europa have the highest transportation rate with approximately 49.2% of them being transported.\n",
    "# The passengers from Mars have a moderate transportation rate with roughly 34.5 % of them being transported.\n",
    "# Roughly about 34.2% of passengers from homeplanet Earth might have been transported"
   ]
  },
  {
   "cell_type": "code",
   "execution_count": 168,
   "id": "44976273",
   "metadata": {},
   "outputs": [
    {
     "data": {
      "text/plain": [
       "<Axes: xlabel='HomePlanet', ylabel='Count'>"
      ]
     },
     "execution_count": 168,
     "metadata": {},
     "output_type": "execute_result"
    },
    {
     "data": {
      "image/png": "[encoded data removed]",
      "text/plain": [
       "<Figure size 640x480 with 1 Axes>"
      ]
     },
     "metadata": {},
     "output_type": "display_data"
    }
   ],
   "source": [
    "sns.histplot(data_1, hue = \"Transported\",x = \"HomePlanet\" )"
   ]
  },
  {
   "cell_type": "code",
   "execution_count": 217,
   "id": "1b23e6fe",
   "metadata": {},
   "outputs": [
    {
     "name": "stdout",
     "output_type": "stream",
     "text": [
      "CryoSleep\n",
      "False    0.310366\n",
      "True     0.745187\n",
      "Name: Transported, dtype: float64\n"
     ]
    }
   ],
   "source": [
    "# Check whether being placed on cryosleep contributed to being transported\n",
    "cyosleep_outcome = data_1.groupby(\"CryoSleep\")[\"Transported\"].mean()\n",
    "print(cyosleep_outcome)\n",
    "\n",
    "# for the passengers not in CryoSleep (false) they have a 31.0% chances of being transported to another dimension\n",
    "# for the passengers in CryoSleep (true) they have a 74.5% chances of being transported to another dimension\n"
   ]
  },
  {
   "cell_type": "code",
   "execution_count": 170,
   "id": "e5471096",
   "metadata": {},
   "outputs": [
    {
     "data": {
      "image/png": "[encoded data removed]",
      "text/plain": [
       "<Figure size 640x480 with 1 Axes>"
      ]
     },
     "metadata": {},
     "output_type": "display_data"
    }
   ],
   "source": [
    "# Create a bar plot using seaborn\n",
    "sns.barplot(x=cyosleep_outcome.index, y=cyosleep_outcome.values, palette=['lightcoral', 'skyblue'])\n",
    "\n",
    "# Add titles and labels\n",
    "plt.title('Mean Transported by CryoSleep Status')\n",
    "plt.xlabel('CryoSleep Status')\n",
    "plt.ylabel('Mean Transported')\n",
    "plt.xticks(rotation=0)\n",
    "\n",
    "# Show the plot\n",
    "plt.show()"
   ]
  },
  {
   "cell_type": "code",
   "execution_count": 171,
   "id": "8fcc9bf0",
   "metadata": {},
   "outputs": [
    {
     "data": {
      "text/plain": [
       "Destination\n",
       "TRAPPIST-1e      3995\n",
       "55 Cancri e      1176\n",
       "PSO J318.5-22     516\n",
       "Name: count, dtype: int64"
      ]
     },
     "execution_count": 171,
     "metadata": {},
     "output_type": "execute_result"
    }
   ],
   "source": [
    "data_1[\"Destination\"].value_counts()"
   ]
  },
  {
   "cell_type": "code",
   "execution_count": 218,
   "id": "b6272ac0",
   "metadata": {},
   "outputs": [
    {
     "name": "stdout",
     "output_type": "stream",
     "text": [
      "Transported\n",
      "False    2242.011588\n",
      "True     1674.788739\n",
      "Name: Spending_cost, dtype: float64\n"
     ]
    }
   ],
   "source": [
    "# Check the spending behavior for each passenger then group the data by Transported to calculate the mean cost for spending\n",
    "data_1[\"Spending_cost\"] = data_1[[\"RoomService\", \"VRDeck\", \"ShoppingMall\", \"Spa\", \"FoodCourt\"]].sum(axis = 1)\n",
    "spending_analysis = data_1.groupby(\"Transported\")[\"Spending_cost\"].mean().sort_values(ascending = False)\n",
    "print(spending_analysis)\n",
    "\n",
    "# On average the passengers who were not transported spent more (2242.011588) on average compared to those who were \n",
    "# transported who spent (1674.788739)\n"
   ]
  },
  {
   "cell_type": "code",
   "execution_count": 219,
   "id": "052217b0",
   "metadata": {},
   "outputs": [
    {
     "data": {
      "text/html": [
       "<div>\n",
       "<style scoped>\n",
       "    .dataframe tbody tr th:only-of-type {\n",
       "        vertical-align: middle;\n",
       "    }\n",
       "\n",
       "    .dataframe tbody tr th {\n",
       "        vertical-align: top;\n",
       "    }\n",
       "\n",
       "    .dataframe thead th {\n",
       "        text-align: right;\n",
       "    }\n",
       "</style>\n",
       "<table border=\"1\" class=\"dataframe\">\n",
       "  <thead>\n",
       "    <tr style=\"text-align: right;\">\n",
       "      <th></th>\n",
       "      <th>HomePlanet</th>\n",
       "      <th>CryoSleep</th>\n",
       "      <th>Destination</th>\n",
       "      <th>Age</th>\n",
       "      <th>VIP</th>\n",
       "      <th>RoomService</th>\n",
       "      <th>FoodCourt</th>\n",
       "      <th>ShoppingMall</th>\n",
       "      <th>Spa</th>\n",
       "      <th>VRDeck</th>\n",
       "      <th>Transported</th>\n",
       "      <th>Spending_cost</th>\n",
       "    </tr>\n",
       "  </thead>\n",
       "  <tbody>\n",
       "    <tr>\n",
       "      <th>0</th>\n",
       "      <td>Europa</td>\n",
       "      <td>False</td>\n",
       "      <td>TRAPPIST-1e</td>\n",
       "      <td>39.0</td>\n",
       "      <td>False</td>\n",
       "      <td>0.0</td>\n",
       "      <td>0.0</td>\n",
       "      <td>0.0</td>\n",
       "      <td>0.0</td>\n",
       "      <td>0.0</td>\n",
       "      <td>False</td>\n",
       "      <td>0.0</td>\n",
       "    </tr>\n",
       "    <tr>\n",
       "      <th>1</th>\n",
       "      <td>Earth</td>\n",
       "      <td>False</td>\n",
       "      <td>TRAPPIST-1e</td>\n",
       "      <td>24.0</td>\n",
       "      <td>False</td>\n",
       "      <td>109.0</td>\n",
       "      <td>9.0</td>\n",
       "      <td>25.0</td>\n",
       "      <td>549.0</td>\n",
       "      <td>44.0</td>\n",
       "      <td>True</td>\n",
       "      <td>736.0</td>\n",
       "    </tr>\n",
       "    <tr>\n",
       "      <th>2</th>\n",
       "      <td>Europa</td>\n",
       "      <td>False</td>\n",
       "      <td>TRAPPIST-1e</td>\n",
       "      <td>58.0</td>\n",
       "      <td>True</td>\n",
       "      <td>43.0</td>\n",
       "      <td>3576.0</td>\n",
       "      <td>0.0</td>\n",
       "      <td>6715.0</td>\n",
       "      <td>49.0</td>\n",
       "      <td>False</td>\n",
       "      <td>10383.0</td>\n",
       "    </tr>\n",
       "    <tr>\n",
       "      <th>3</th>\n",
       "      <td>Europa</td>\n",
       "      <td>False</td>\n",
       "      <td>TRAPPIST-1e</td>\n",
       "      <td>33.0</td>\n",
       "      <td>False</td>\n",
       "      <td>0.0</td>\n",
       "      <td>1283.0</td>\n",
       "      <td>371.0</td>\n",
       "      <td>3329.0</td>\n",
       "      <td>193.0</td>\n",
       "      <td>False</td>\n",
       "      <td>5176.0</td>\n",
       "    </tr>\n",
       "    <tr>\n",
       "      <th>4</th>\n",
       "      <td>Earth</td>\n",
       "      <td>False</td>\n",
       "      <td>TRAPPIST-1e</td>\n",
       "      <td>16.0</td>\n",
       "      <td>False</td>\n",
       "      <td>303.0</td>\n",
       "      <td>70.0</td>\n",
       "      <td>151.0</td>\n",
       "      <td>565.0</td>\n",
       "      <td>2.0</td>\n",
       "      <td>True</td>\n",
       "      <td>1091.0</td>\n",
       "    </tr>\n",
       "  </tbody>\n",
       "</table>\n",
       "</div>"
      ],
      "text/plain": [
       "  HomePlanet CryoSleep  Destination   Age    VIP  RoomService  FoodCourt  \\\n",
       "0     Europa     False  TRAPPIST-1e  39.0  False          0.0        0.0   \n",
       "1      Earth     False  TRAPPIST-1e  24.0  False        109.0        9.0   \n",
       "2     Europa     False  TRAPPIST-1e  58.0   True         43.0     3576.0   \n",
       "3     Europa     False  TRAPPIST-1e  33.0  False          0.0     1283.0   \n",
       "4      Earth     False  TRAPPIST-1e  16.0  False        303.0       70.0   \n",
       "\n",
       "   ShoppingMall     Spa  VRDeck  Transported  Spending_cost  \n",
       "0           0.0     0.0     0.0        False            0.0  \n",
       "1          25.0   549.0    44.0         True          736.0  \n",
       "2           0.0  6715.0    49.0        False        10383.0  \n",
       "3         371.0  3329.0   193.0        False         5176.0  \n",
       "4         151.0   565.0     2.0         True         1091.0  "
      ]
     },
     "execution_count": 219,
     "metadata": {},
     "output_type": "execute_result"
    }
   ],
   "source": [
    "data_1.head()"
   ]
  },
  {
   "cell_type": "code",
   "execution_count": 220,
   "id": "70b96798",
   "metadata": {},
   "outputs": [
    {
     "data": {
      "image/png": "[encoded data removed]",
      "text/plain": [
       "<Figure size 640x480 with 1 Axes>"
      ]
     },
     "metadata": {},
     "output_type": "display_data"
    }
   ],
   "source": [
    "# Visualize the data\n",
    "spending_analysis.plot(kind = \"bar\", title = \"Average spending cost by Transported Status \")\n",
    "plt.xlabel('Transported')\n",
    "plt.ylabel('Average Spending Cost')\n",
    "plt.show()"
   ]
  },
  {
   "cell_type": "code",
   "execution_count": 221,
   "id": "7be4c566",
   "metadata": {},
   "outputs": [
    {
     "name": "stdout",
     "output_type": "stream",
     "text": [
      "AgeGroup\n",
      "Teenagers      0.348023\n",
      "Young Adult    0.347771\n",
      "Middle Aged    0.384262\n",
      "Senior         0.440476\n",
      "Name: Transported, dtype: float64\n"
     ]
    }
   ],
   "source": [
    "# Get the trends for the passengers age that were transported to the another dimension \n",
    "data_1['AgeGroup'] = pd.cut(data_1['Age'], bins=[15, 25, 35, 55, 80], labels=['Teenagers', 'Young Adult', 'Middle Aged', 'Senior'])\n",
    "age_effect = data_1.groupby('AgeGroup')['Transported'].mean()\n",
    "print(age_effect)\n",
    "\n",
    "# for Teenagers passengers approximately 34.8% for that age_group were transported \n",
    "# for Adult passengers approximately 34.7% for that age_group were transported \n",
    "# for Middle Aged passengers around 38.4% for that age_group were transported \n",
    "# for Senior passengers approximately 44.0% for that age_group were transported "
   ]
  },
  {
   "cell_type": "code",
   "execution_count": 222,
   "id": "4380b3bb",
   "metadata": {},
   "outputs": [
    {
     "data": {
      "image/png": "[encoded data removed]",
      "text/plain": [
       "<Figure size 640x480 with 1 Axes>"
      ]
     },
     "metadata": {},
     "output_type": "display_data"
    }
   ],
   "source": [
    "# visualize the Age of the passengers and the transportation rate.\n",
    "sns.histplot(data_1, x = \"Age\", hue = \"Transported\", kde = True);"
   ]
  },
  {
   "cell_type": "markdown",
   "id": "4427c72a",
   "metadata": {},
   "source": [
    "## Data Preprocessing"
   ]
  },
  {
   "cell_type": "code",
   "execution_count": 180,
   "id": "53c7c404-b4cb-4e35-b855-10ea7181d232",
   "metadata": {},
   "outputs": [
    {
     "data": {
      "text/html": [
       "<div>\n",
       "<style scoped>\n",
       "    .dataframe tbody tr th:only-of-type {\n",
       "        vertical-align: middle;\n",
       "    }\n",
       "\n",
       "    .dataframe tbody tr th {\n",
       "        vertical-align: top;\n",
       "    }\n",
       "\n",
       "    .dataframe thead th {\n",
       "        text-align: right;\n",
       "    }\n",
       "</style>\n",
       "<table border=\"1\" class=\"dataframe\">\n",
       "  <thead>\n",
       "    <tr style=\"text-align: right;\">\n",
       "      <th></th>\n",
       "      <th>HomePlanet</th>\n",
       "      <th>CryoSleep</th>\n",
       "      <th>Destination</th>\n",
       "      <th>VIP</th>\n",
       "    </tr>\n",
       "  </thead>\n",
       "  <tbody>\n",
       "    <tr>\n",
       "      <th>0</th>\n",
       "      <td>Europa</td>\n",
       "      <td>False</td>\n",
       "      <td>TRAPPIST-1e</td>\n",
       "      <td>False</td>\n",
       "    </tr>\n",
       "    <tr>\n",
       "      <th>1</th>\n",
       "      <td>Earth</td>\n",
       "      <td>False</td>\n",
       "      <td>TRAPPIST-1e</td>\n",
       "      <td>False</td>\n",
       "    </tr>\n",
       "    <tr>\n",
       "      <th>2</th>\n",
       "      <td>Europa</td>\n",
       "      <td>False</td>\n",
       "      <td>TRAPPIST-1e</td>\n",
       "      <td>True</td>\n",
       "    </tr>\n",
       "    <tr>\n",
       "      <th>3</th>\n",
       "      <td>Europa</td>\n",
       "      <td>False</td>\n",
       "      <td>TRAPPIST-1e</td>\n",
       "      <td>False</td>\n",
       "    </tr>\n",
       "    <tr>\n",
       "      <th>4</th>\n",
       "      <td>Earth</td>\n",
       "      <td>False</td>\n",
       "      <td>TRAPPIST-1e</td>\n",
       "      <td>False</td>\n",
       "    </tr>\n",
       "  </tbody>\n",
       "</table>\n",
       "</div>"
      ],
      "text/plain": [
       "  HomePlanet CryoSleep  Destination    VIP\n",
       "0     Europa     False  TRAPPIST-1e  False\n",
       "1      Earth     False  TRAPPIST-1e  False\n",
       "2     Europa     False  TRAPPIST-1e   True\n",
       "3     Europa     False  TRAPPIST-1e  False\n",
       "4      Earth     False  TRAPPIST-1e  False"
      ]
     },
     "execution_count": 180,
     "metadata": {},
     "output_type": "execute_result"
    }
   ],
   "source": [
    "# select the categorical variables\n",
    "catagoricals = data_1.select_dtypes(include = \"object\")\n",
    "catagoricals.head()"
   ]
  },
  {
   "cell_type": "code",
   "execution_count": 181,
   "id": "0edb420c",
   "metadata": {},
   "outputs": [
    {
     "data": {
      "text/html": [
       "<div>\n",
       "<style scoped>\n",
       "    .dataframe tbody tr th:only-of-type {\n",
       "        vertical-align: middle;\n",
       "    }\n",
       "\n",
       "    .dataframe tbody tr th {\n",
       "        vertical-align: top;\n",
       "    }\n",
       "\n",
       "    .dataframe thead th {\n",
       "        text-align: right;\n",
       "    }\n",
       "</style>\n",
       "<table border=\"1\" class=\"dataframe\">\n",
       "  <thead>\n",
       "    <tr style=\"text-align: right;\">\n",
       "      <th></th>\n",
       "      <th>Age</th>\n",
       "      <th>RoomService</th>\n",
       "      <th>FoodCourt</th>\n",
       "      <th>ShoppingMall</th>\n",
       "      <th>Spa</th>\n",
       "      <th>VRDeck</th>\n",
       "      <th>Spending_cost</th>\n",
       "    </tr>\n",
       "  </thead>\n",
       "  <tbody>\n",
       "    <tr>\n",
       "      <th>0</th>\n",
       "      <td>39.0</td>\n",
       "      <td>0.0</td>\n",
       "      <td>0.0</td>\n",
       "      <td>0.0</td>\n",
       "      <td>0.0</td>\n",
       "      <td>0.0</td>\n",
       "      <td>0.0</td>\n",
       "    </tr>\n",
       "    <tr>\n",
       "      <th>1</th>\n",
       "      <td>24.0</td>\n",
       "      <td>109.0</td>\n",
       "      <td>9.0</td>\n",
       "      <td>25.0</td>\n",
       "      <td>549.0</td>\n",
       "      <td>44.0</td>\n",
       "      <td>736.0</td>\n",
       "    </tr>\n",
       "    <tr>\n",
       "      <th>2</th>\n",
       "      <td>58.0</td>\n",
       "      <td>43.0</td>\n",
       "      <td>3576.0</td>\n",
       "      <td>0.0</td>\n",
       "      <td>6715.0</td>\n",
       "      <td>49.0</td>\n",
       "      <td>10383.0</td>\n",
       "    </tr>\n",
       "    <tr>\n",
       "      <th>3</th>\n",
       "      <td>33.0</td>\n",
       "      <td>0.0</td>\n",
       "      <td>1283.0</td>\n",
       "      <td>371.0</td>\n",
       "      <td>3329.0</td>\n",
       "      <td>193.0</td>\n",
       "      <td>5176.0</td>\n",
       "    </tr>\n",
       "    <tr>\n",
       "      <th>4</th>\n",
       "      <td>16.0</td>\n",
       "      <td>303.0</td>\n",
       "      <td>70.0</td>\n",
       "      <td>151.0</td>\n",
       "      <td>565.0</td>\n",
       "      <td>2.0</td>\n",
       "      <td>1091.0</td>\n",
       "    </tr>\n",
       "  </tbody>\n",
       "</table>\n",
       "</div>"
      ],
      "text/plain": [
       "    Age  RoomService  FoodCourt  ShoppingMall     Spa  VRDeck  Spending_cost\n",
       "0  39.0          0.0        0.0           0.0     0.0     0.0            0.0\n",
       "1  24.0        109.0        9.0          25.0   549.0    44.0          736.0\n",
       "2  58.0         43.0     3576.0           0.0  6715.0    49.0        10383.0\n",
       "3  33.0          0.0     1283.0         371.0  3329.0   193.0         5176.0\n",
       "4  16.0        303.0       70.0         151.0   565.0     2.0         1091.0"
      ]
     },
     "execution_count": 181,
     "metadata": {},
     "output_type": "execute_result"
    }
   ],
   "source": [
    "# select the continous variables\n",
    "continous = data_1.select_dtypes(include = \"number\")\n",
    "continous.head()"
   ]
  },
  {
   "cell_type": "code",
   "execution_count": 223,
   "id": "2ca7bd9f",
   "metadata": {},
   "outputs": [
    {
     "data": {
      "text/plain": [
       "Index(['HomePlanet', 'CryoSleep', 'Destination', 'Age', 'VIP', 'RoomService',\n",
       "       'FoodCourt', 'ShoppingMall', 'Spa', 'VRDeck', 'Transported',\n",
       "       'Spending_cost', 'AgeGroup'],\n",
       "      dtype='object')"
      ]
     },
     "execution_count": 223,
     "metadata": {},
     "output_type": "execute_result"
    }
   ],
   "source": [
    "data_1.columns"
   ]
  },
  {
   "cell_type": "code",
   "execution_count": 224,
   "id": "7c10b48c",
   "metadata": {},
   "outputs": [
    {
     "data": {
      "text/html": [
       "<div>\n",
       "<style scoped>\n",
       "    .dataframe tbody tr th:only-of-type {\n",
       "        vertical-align: middle;\n",
       "    }\n",
       "\n",
       "    .dataframe tbody tr th {\n",
       "        vertical-align: top;\n",
       "    }\n",
       "\n",
       "    .dataframe thead th {\n",
       "        text-align: right;\n",
       "    }\n",
       "</style>\n",
       "<table border=\"1\" class=\"dataframe\">\n",
       "  <thead>\n",
       "    <tr style=\"text-align: right;\">\n",
       "      <th></th>\n",
       "      <th>HomePlanet</th>\n",
       "      <th>CryoSleep</th>\n",
       "      <th>Destination</th>\n",
       "      <th>Age</th>\n",
       "      <th>RoomService</th>\n",
       "      <th>FoodCourt</th>\n",
       "      <th>ShoppingMall</th>\n",
       "      <th>Spa</th>\n",
       "      <th>VRDeck</th>\n",
       "      <th>Transported</th>\n",
       "    </tr>\n",
       "  </thead>\n",
       "  <tbody>\n",
       "    <tr>\n",
       "      <th>0</th>\n",
       "      <td>Europa</td>\n",
       "      <td>False</td>\n",
       "      <td>TRAPPIST-1e</td>\n",
       "      <td>39.0</td>\n",
       "      <td>0.0</td>\n",
       "      <td>0.0</td>\n",
       "      <td>0.0</td>\n",
       "      <td>0.0</td>\n",
       "      <td>0.0</td>\n",
       "      <td>False</td>\n",
       "    </tr>\n",
       "    <tr>\n",
       "      <th>1</th>\n",
       "      <td>Earth</td>\n",
       "      <td>False</td>\n",
       "      <td>TRAPPIST-1e</td>\n",
       "      <td>24.0</td>\n",
       "      <td>109.0</td>\n",
       "      <td>9.0</td>\n",
       "      <td>25.0</td>\n",
       "      <td>549.0</td>\n",
       "      <td>44.0</td>\n",
       "      <td>True</td>\n",
       "    </tr>\n",
       "    <tr>\n",
       "      <th>2</th>\n",
       "      <td>Europa</td>\n",
       "      <td>False</td>\n",
       "      <td>TRAPPIST-1e</td>\n",
       "      <td>58.0</td>\n",
       "      <td>43.0</td>\n",
       "      <td>3576.0</td>\n",
       "      <td>0.0</td>\n",
       "      <td>6715.0</td>\n",
       "      <td>49.0</td>\n",
       "      <td>False</td>\n",
       "    </tr>\n",
       "    <tr>\n",
       "      <th>3</th>\n",
       "      <td>Europa</td>\n",
       "      <td>False</td>\n",
       "      <td>TRAPPIST-1e</td>\n",
       "      <td>33.0</td>\n",
       "      <td>0.0</td>\n",
       "      <td>1283.0</td>\n",
       "      <td>371.0</td>\n",
       "      <td>3329.0</td>\n",
       "      <td>193.0</td>\n",
       "      <td>False</td>\n",
       "    </tr>\n",
       "    <tr>\n",
       "      <th>4</th>\n",
       "      <td>Earth</td>\n",
       "      <td>False</td>\n",
       "      <td>TRAPPIST-1e</td>\n",
       "      <td>16.0</td>\n",
       "      <td>303.0</td>\n",
       "      <td>70.0</td>\n",
       "      <td>151.0</td>\n",
       "      <td>565.0</td>\n",
       "      <td>2.0</td>\n",
       "      <td>True</td>\n",
       "    </tr>\n",
       "  </tbody>\n",
       "</table>\n",
       "</div>"
      ],
      "text/plain": [
       "  HomePlanet CryoSleep  Destination   Age  RoomService  FoodCourt  \\\n",
       "0     Europa     False  TRAPPIST-1e  39.0          0.0        0.0   \n",
       "1      Earth     False  TRAPPIST-1e  24.0        109.0        9.0   \n",
       "2     Europa     False  TRAPPIST-1e  58.0         43.0     3576.0   \n",
       "3     Europa     False  TRAPPIST-1e  33.0          0.0     1283.0   \n",
       "4      Earth     False  TRAPPIST-1e  16.0        303.0       70.0   \n",
       "\n",
       "   ShoppingMall     Spa  VRDeck  Transported  \n",
       "0           0.0     0.0     0.0        False  \n",
       "1          25.0   549.0    44.0         True  \n",
       "2           0.0  6715.0    49.0        False  \n",
       "3         371.0  3329.0   193.0        False  \n",
       "4         151.0   565.0     2.0         True  "
      ]
     },
     "execution_count": 224,
     "metadata": {},
     "output_type": "execute_result"
    }
   ],
   "source": [
    "# select the columns for preprocessing step\n",
    "columns = ['HomePlanet', 'CryoSleep', 'Destination', 'Age', 'RoomService', 'FoodCourt', 'ShoppingMall', 'Spa', 'VRDeck', 'Transported']\n",
    "\n",
    "data_2 = data_1[columns]\n",
    "data_2.head()"
   ]
  },
  {
   "cell_type": "code",
   "execution_count": 229,
   "id": "c2fa7a6a",
   "metadata": {},
   "outputs": [
    {
     "name": "stdout",
     "output_type": "stream",
     "text": [
      "Accuracy: 0.7934973637961336\n",
      "Classification Report:\n",
      "               precision    recall  f1-score   support\n",
      "\n",
      "       False       0.83      0.85      0.84       723\n",
      "        True       0.73      0.69      0.71       415\n",
      "\n",
      "    accuracy                           0.79      1138\n",
      "   macro avg       0.78      0.77      0.77      1138\n",
      "weighted avg       0.79      0.79      0.79      1138\n",
      "\n"
     ]
    }
   ],
   "source": [
    "# select the features and target\n",
    "X = data_2.drop(columns = [\"Transported\"], axis = 1)\n",
    "y = data_2[\"Transported\"]\n",
    "\n",
    "# Preprocessing the data for both categorical and numerical features\n",
    "cat_features = ['HomePlanet', 'CryoSleep', 'Destination']\n",
    "num_features = ['Age', 'RoomService', 'FoodCourt', 'ShoppingMall', 'Spa', 'VRDeck']\n",
    "\n",
    "# create a preprocessor for categorical and numerical columns\n",
    "preprocessor = ColumnTransformer(transformers = [('num', StandardScaler(), num_features), \n",
    "                                                 ('cat', OneHotEncoder(), cat_features)])\n",
    "\n",
    "# create a Logistic regression pipeline\n",
    "baseline_model = Pipeline([('preprocessor', preprocessor), \n",
    "                     ('classifier', LogisticRegression())])\n",
    "\n",
    "# split the data into train and test set\n",
    "X_train, X_test, y_train, y_test = train_test_split(X, y, test_size = .2, random_state = 42)\n",
    "\n",
    "# Train the Logistic Regression model\n",
    "baseline_model.fit(X_train, y_train)\n",
    "\n",
    "# get the predictions on the test set\n",
    "y_pred = baseline_model.predict(X_test)\n",
    "\n",
    "\n",
    "# Lets evaluate the model\n",
    "print(\"Accuracy:\", accuracy_score(y_test, y_pred))\n",
    "print(\"Classification Report:\\n\",classification_report(y_test, y_pred))\n",
    "# Approximately 79.35% of the predictions were made by the model are correct."
   ]
  },
  {
   "cell_type": "code",
   "execution_count": 231,
   "id": "2b04fb4c",
   "metadata": {},
   "outputs": [
    {
     "name": "stdout",
     "output_type": "stream",
     "text": [
      "[[618 105]\n",
      " [130 285]]\n"
     ]
    },
    {
     "data": {
      "image/png": "[encoded data removed]",
      "text/plain": [
       "<Figure size 640x480 with 2 Axes>"
      ]
     },
     "metadata": {},
     "output_type": "display_data"
    }
   ],
   "source": [
    "# plot the confusion matrix for the y_test\n",
    "cfn = confusion_matrix(y_true = y_test, y_pred = y_pred)\n",
    "print(cfn)\n",
    "sns.heatmap(cfn, annot = True);\n",
    "\n",
    "# The model correctly predicted  618 False instances\n",
    "# The model predicted 105 instances as True but they are actually False\n",
    "# The model predicted 130 instances as False but they were actually True\n",
    "# The correctly predicted 285 True instances"
   ]
  },
  {
   "cell_type": "code",
   "execution_count": null,
   "id": "72e0190c",
   "metadata": {},
   "outputs": [
    {
     "name": "stdout",
     "output_type": "stream",
     "text": [
      "0.8616207568864671\n"
     ]
    },
    {
     "data": {
      "image/png": "[encoded data removed]",
      "text/plain": [
       "<Figure size 640x480 with 1 Axes>"
      ]
     },
     "metadata": {},
     "output_type": "display_data"
    }
   ],
   "source": [
    "# visualize the ROC curve for true positive rate against false negative rate\n",
    "fpr, tpr,_ = roc_curve(y_true = y_test, y_score = baseline_model.decision_function(X_test))\n",
    "area = auc(fpr, tpr)\n",
    "print(area)\n",
    "# The higher auc of 86.2% indicates a better model performance\n",
    "sns.lineplot(x=fpr, y=tpr, label='ROC Curve')\n",
    "\n",
    "\n",
    "# Add labels and title\n",
    "plt.xlabel('False Positive Rate (FPR)')\n",
    "plt.ylabel('True Positive Rate (TPR)')\n",
    "plt.title('ROC Curve')\n",
    "plt.plot([0, 1], [0, 1], linestyle='--', color='red', label='Random Guess')  # Diagonal line for random guessing\n",
    "plt.legend()\n",
    "\n",
    "# Show the plot\n",
    "plt.show()"
   ]
  },
  {
   "cell_type": "code",
   "execution_count": 235,
   "id": "6cd8f13f",
   "metadata": {},
   "outputs": [
    {
     "name": "stdout",
     "output_type": "stream",
     "text": [
      "Accuracy: 0.7952548330404218\n",
      "Classification Report:\n",
      "               precision    recall  f1-score   support\n",
      "\n",
      "       False       0.83      0.85      0.84       723\n",
      "        True       0.73      0.69      0.71       415\n",
      "\n",
      "    accuracy                           0.80      1138\n",
      "   macro avg       0.78      0.77      0.78      1138\n",
      "weighted avg       0.79      0.80      0.79      1138\n",
      "\n"
     ]
    }
   ],
   "source": [
    "# improve the mode performance by setting some hyperparameters\n",
    "# select the features and target\n",
    "X = data_2.drop(columns = [\"Transported\"], axis = 1)\n",
    "y = data_2[\"Transported\"]\n",
    "\n",
    "# Preprocessing the data for both categorical and numerical features\n",
    "cat_features = ['HomePlanet', 'CryoSleep', 'Destination']\n",
    "num_features = ['Age', 'RoomService', 'FoodCourt', 'ShoppingMall', 'Spa', 'VRDeck']\n",
    "\n",
    "# create a preprocessor for categorical and numerical columns\n",
    "preprocessor = ColumnTransformer(transformers = [('num', StandardScaler(), num_features), \n",
    "                                                 ('cat', OneHotEncoder(), cat_features)])\n",
    "\n",
    "# create a Logistic regression pipeline\n",
    "baseline_model_1 = Pipeline([('preprocessor', preprocessor), \n",
    "                     ('classifier', LogisticRegression(fit_intercept = False, C = 1e12, solver = 'saga'))])\n",
    "\n",
    "# split the data into train and test set\n",
    "X_train, X_test, y_train, y_test = train_test_split(X, y, test_size = .2, random_state = 42)\n",
    "\n",
    "# Train the Logistic Regression model\n",
    "baseline_model_1.fit(X_train, y_train)\n",
    "\n",
    "# get the predictions on the test set\n",
    "y_pred = baseline_model_1.predict(X_test)\n",
    "\n",
    "\n",
    "# Lets evaluate the model\n",
    "print(\"Accuracy:\", accuracy_score(y_test, y_pred))\n",
    "print(\"Classification Report:\\n\",classification_report(y_test, y_pred))\n",
    "# Approximately 79.35% of the predictions were made by the model are correct\n",
    "\n"
   ]
  },
  {
   "cell_type": "code",
   "execution_count": 237,
   "id": "045b6bf7",
   "metadata": {},
   "outputs": [
    {
     "name": "stdout",
     "output_type": "stream",
     "text": [
      "Best parameters found:  {'classifier__C': 0.01, 'classifier__fit_intercept': True, 'classifier__l1_ratio': 0, 'classifier__penalty': 'none'}\n",
      "Test set accuracy: 0.80\n",
      "Accuracy: 0.7952548330404218\n",
      "Classification Report:\n",
      "               precision    recall  f1-score   support\n",
      "\n",
      "       False       0.83      0.85      0.84       723\n",
      "        True       0.73      0.69      0.71       415\n",
      "\n",
      "    accuracy                           0.80      1138\n",
      "   macro avg       0.78      0.77      0.78      1138\n",
      "weighted avg       0.79      0.80      0.79      1138\n",
      "\n"
     ]
    }
   ],
   "source": [
    "# Select the features and target\n",
    "X = data_2.drop(columns=[\"Transported\"], axis=1)\n",
    "y = data_2[\"Transported\"]\n",
    "\n",
    "# Preprocessing the data for both categorical and numerical features\n",
    "cat_features = ['HomePlanet', 'CryoSleep', 'Destination']\n",
    "num_features = ['Age', 'RoomService', 'FoodCourt', 'ShoppingMall', 'Spa', 'VRDeck']\n",
    "\n",
    "# Create a preprocessor for categorical and numerical columns\n",
    "preprocessor = ColumnTransformer(transformers=[\n",
    "    ('num', StandardScaler(), num_features), \n",
    "    ('cat', OneHotEncoder(), cat_features)\n",
    "])\n",
    "\n",
    "# Create a Logistic Regression pipeline\n",
    "pipeline = Pipeline([\n",
    "    ('preprocessor', preprocessor), \n",
    "    ('classifier', LogisticRegression(solver='saga'))\n",
    "])\n",
    "\n",
    "# Define the parameter grid for hyperparameter tuning\n",
    "param_grid = {\n",
    "    'classifier__C': [0.01, 0.1, 1, 10, 100, 1e12],  # Regularization strength\n",
    "    'classifier__fit_intercept': [True, False],  # Whether to fit the intercept\n",
    "    'classifier__penalty': ['l1', 'l2', 'elasticnet', 'none'],  # Regularization type\n",
    "    'classifier__l1_ratio': [0, 0.5, 1]  # Only used when penalty is 'elasticnet'\n",
    "}\n",
    "\n",
    "# Set up GridSearchCV\n",
    "grid_search = GridSearchCV(estimator=pipeline, param_grid=param_grid, cv=5, scoring='accuracy')\n",
    "\n",
    "# Split the data into train and test set\n",
    "X_train, X_test, y_train, y_test = train_test_split(X, y, test_size=0.2, random_state=42)\n",
    "\n",
    "# Fit the model using GridSearchCV\n",
    "grid_search.fit(X_train, y_train)\n",
    "\n",
    "# Get the best parameters\n",
    "best_params = grid_search.best_params_\n",
    "print(\"Best parameters found: \", best_params)\n",
    "\n",
    "# Evaluate the best model\n",
    "best_model = grid_search.best_estimator_\n",
    "accuracy = best_model.score(X_test, y_test)\n",
    "print(\"Test set accuracy: {:.2f}\".format(accuracy))\n",
    "\n",
    "# Get the predictions on the test set\n",
    "y_pred = best_model.predict(X_test)\n",
    "\n",
    "# Let's evaluate the model\n",
    "print(\"Accuracy:\", accuracy_score(y_test, y_pred))\n",
    "print(\"Classification Report:\\n\", classification_report(y_test, y_pred))"
   ]
  },
  {
   "cell_type": "code",
   "execution_count": 238,
   "id": "b9a17a54",
   "metadata": {},
   "outputs": [
    {
     "name": "stdout",
     "output_type": "stream",
     "text": [
      "Raw Counts\n",
      "Transported\n",
      "False    3538\n",
      "True     2149\n",
      "Name: count, dtype: int64\n",
      "\n",
      "Percentages\n",
      "Transported\n",
      "False    0.622121\n",
      "True     0.377879\n",
      "Name: proportion, dtype: float64\n"
     ]
    }
   ],
   "source": [
    "# check for class imbalance on the target variables\n",
    "print(\"Raw Counts\")\n",
    "print(data_2[\"Transported\"].value_counts())\n",
    "print()\n",
    "print(\"Percentages\")\n",
    "print(data_2[\"Transported\"].value_counts(normalize=True))\n",
    "\n",
    "# Take note of the class imbalanced for the passengers transported True and not transported False"
   ]
  },
  {
   "cell_type": "code",
   "execution_count": 239,
   "id": "ca93e0b5",
   "metadata": {},
   "outputs": [
    {
     "data": {
      "text/plain": [
       "<Axes: xlabel='Transported', ylabel='count'>"
      ]
     },
     "execution_count": 239,
     "metadata": {},
     "output_type": "execute_result"
    },
    {
     "data": {
      "image/png": "[encoded data removed]",
      "text/plain": [
       "<Figure size 640x480 with 1 Axes>"
      ]
     },
     "metadata": {},
     "output_type": "display_data"
    }
   ],
   "source": [
    "sns.countplot(x = y_train)"
   ]
  },
  {
   "cell_type": "code",
   "execution_count": 193,
   "id": "1bc26ea7",
   "metadata": {},
   "outputs": [
    {
     "name": "stdout",
     "output_type": "stream",
     "text": [
      "\n",
      "Class distribution after applying SMOTE:\n",
      "Transported\n",
      "False    3538\n",
      "True     3538\n",
      "Name: count, dtype: int64\n",
      "0.8403337551609974\n",
      "\n",
      " Classification Report:\n",
      "              precision    recall  f1-score   support\n",
      "\n",
      "       False       0.77      0.75      0.76       890\n",
      "        True       0.75      0.77      0.76       879\n",
      "\n",
      "    accuracy                           0.76      1769\n",
      "   macro avg       0.76      0.76      0.76      1769\n",
      "weighted avg       0.76      0.76      0.76      1769\n",
      "\n",
      "\n",
      " Accuracy Score: 0.7597512719050311\n"
     ]
    },
    {
     "data": {
      "image/png": "[encoded data removed]",
      "text/plain": [
       "<Figure size 640x480 with 1 Axes>"
      ]
     },
     "metadata": {},
     "output_type": "display_data"
    }
   ],
   "source": [
    "# create a two functions that perform smote analysis and logistic regression analysis\n",
    "\n",
    "def smote_analysis(data_2):\n",
    "    # Convert categorical columns to numerical using LabelEncoder\n",
    "    label_encoders = {}\n",
    "    for column in ['HomePlanet', 'CryoSleep', 'Destination']:\n",
    "        le = LabelEncoder()\n",
    "        data_2[column] = le.fit_transform(data_2[column].astype(str))\n",
    "        label_encoders[column] = le\n",
    "\n",
    "    # # Handle missing values by filling them\n",
    "    # imputer = SimpleImputer(strategy='mean')\n",
    "    # data_2[['Age', 'RoomService', 'FoodCourt', 'ShoppingMall', 'Spa',  'VRDeck']] = imputer.fit_transform(\n",
    "    #     data_2[['Age', 'RoomService', 'FoodCourt', 'ShoppingMall', 'Spa',  'VRDeck']])\n",
    "\n",
    "    # Separate features and target variable\n",
    "    X = data_2.drop('Transported', axis=1)\n",
    "    y = data_2['Transported']\n",
    "\n",
    "    # Apply SMOTE\n",
    "    smote = SMOTE()\n",
    "    X_resampled, y_resampled = smote.fit_resample(X, y)\n",
    "\n",
    "    # Convert resampled data back to DataFrame for better readability\n",
    "    X_resampled = pd.DataFrame(X_resampled, columns=X.columns)\n",
    "    y_resampled = pd.Series(y_resampled, name='Transported')\n",
    "\n",
    "    # Combine resampled features and target into one DataFrame\n",
    "    resampled_data = pd.concat([X_resampled, y_resampled], axis=1)\n",
    "\n",
    "     # Print class distribution of the resampled target variable\n",
    "    print('\\nClass distribution after applying SMOTE:')\n",
    "    print(y_resampled.value_counts())\n",
    "\n",
    "    return X_resampled, y_resampled\n",
    "\n",
    "# lets create second function that perform splitting on the resampled data then fit the model\n",
    "def logistic_regression_analysis(data_2):\n",
    "        \n",
    "    # preprocess and resampled the data\n",
    "    X_resampled, y_resampled = smote_analysis(data_2)\n",
    "    \n",
    "    # perform the train test split\n",
    "    X_train, X_test, y_train, y_test = train_test_split(X_resampled, y_resampled)\n",
    "    \n",
    "    # fit then train the logistic regression model\n",
    "    baseline_model = LogisticRegression(fit_intercept = False, C = 1e12, solver = \"liblinear\").fit(X_train, y_train)\n",
    "    \n",
    "    # get the predictions on the test data\n",
    "    y_pred = baseline_model.predict(X_test)\n",
    "    area_1 = auc(fpr, tpr)\n",
    "    \n",
    "    fpr1, tpr1,_ = roc_curve(y_true = y_test, y_score = baseline_model.decision_function(X_test))\n",
    "    area1 = auc(fpr1, tpr1)\n",
    "    print(area1)\n",
    "    sns.lineplot(x = fpr1, y = tpr1, color = \"red\") \n",
    "    sns.lineplot(x = fpr, y = tpr, color = \"orange\")\n",
    "    # Add labels and title\n",
    "    plt.xlabel('False Positive Rate (FPR)')\n",
    "    plt.ylabel('True Positive Rate (TPR)')\n",
    "    plt.title('ROC Curve')\n",
    "    \n",
    "    # Evaluate the model performance\n",
    "    print(\"\\n Classification Report:\")\n",
    "    print(classification_report(y_test, y_pred))\n",
    "    print(\"\\n Accuracy Score:\", accuracy_score(y_test, y_pred))\n",
    "    \n",
    "# perform Logistic Regression analysis\n",
    "logistic_regression_analysis(data_2)\n"
   ]
  },
  {
   "cell_type": "code",
   "execution_count": 194,
   "id": "bb1a55fb",
   "metadata": {},
   "outputs": [],
   "source": [
    "data_2.to_csv(\"data_2.csv\", index = False)\n",
    "# Save the entire DataFrame to a CSV file\n"
   ]
  },
  {
   "cell_type": "code",
   "execution_count": 195,
   "id": "32d061a4",
   "metadata": {},
   "outputs": [
    {
     "data": {
      "text/html": [
       "<div>\n",
       "<style scoped>\n",
       "    .dataframe tbody tr th:only-of-type {\n",
       "        vertical-align: middle;\n",
       "    }\n",
       "\n",
       "    .dataframe tbody tr th {\n",
       "        vertical-align: top;\n",
       "    }\n",
       "\n",
       "    .dataframe thead th {\n",
       "        text-align: right;\n",
       "    }\n",
       "</style>\n",
       "<table border=\"1\" class=\"dataframe\">\n",
       "  <thead>\n",
       "    <tr style=\"text-align: right;\">\n",
       "      <th></th>\n",
       "      <th>HomePlanet</th>\n",
       "      <th>CryoSleep</th>\n",
       "      <th>Destination</th>\n",
       "      <th>Age</th>\n",
       "      <th>RoomService</th>\n",
       "      <th>FoodCourt</th>\n",
       "      <th>ShoppingMall</th>\n",
       "      <th>Spa</th>\n",
       "      <th>VRDeck</th>\n",
       "      <th>Transported</th>\n",
       "    </tr>\n",
       "  </thead>\n",
       "  <tbody>\n",
       "    <tr>\n",
       "      <th>0</th>\n",
       "      <td>1</td>\n",
       "      <td>0</td>\n",
       "      <td>2</td>\n",
       "      <td>39.0</td>\n",
       "      <td>0.0</td>\n",
       "      <td>0.0</td>\n",
       "      <td>0.0</td>\n",
       "      <td>0.0</td>\n",
       "      <td>0.0</td>\n",
       "      <td>False</td>\n",
       "    </tr>\n",
       "    <tr>\n",
       "      <th>1</th>\n",
       "      <td>0</td>\n",
       "      <td>0</td>\n",
       "      <td>2</td>\n",
       "      <td>24.0</td>\n",
       "      <td>109.0</td>\n",
       "      <td>9.0</td>\n",
       "      <td>25.0</td>\n",
       "      <td>549.0</td>\n",
       "      <td>44.0</td>\n",
       "      <td>True</td>\n",
       "    </tr>\n",
       "    <tr>\n",
       "      <th>2</th>\n",
       "      <td>1</td>\n",
       "      <td>0</td>\n",
       "      <td>2</td>\n",
       "      <td>58.0</td>\n",
       "      <td>43.0</td>\n",
       "      <td>3576.0</td>\n",
       "      <td>0.0</td>\n",
       "      <td>6715.0</td>\n",
       "      <td>49.0</td>\n",
       "      <td>False</td>\n",
       "    </tr>\n",
       "    <tr>\n",
       "      <th>3</th>\n",
       "      <td>1</td>\n",
       "      <td>0</td>\n",
       "      <td>2</td>\n",
       "      <td>33.0</td>\n",
       "      <td>0.0</td>\n",
       "      <td>1283.0</td>\n",
       "      <td>371.0</td>\n",
       "      <td>3329.0</td>\n",
       "      <td>193.0</td>\n",
       "      <td>False</td>\n",
       "    </tr>\n",
       "    <tr>\n",
       "      <th>4</th>\n",
       "      <td>0</td>\n",
       "      <td>0</td>\n",
       "      <td>2</td>\n",
       "      <td>16.0</td>\n",
       "      <td>303.0</td>\n",
       "      <td>70.0</td>\n",
       "      <td>151.0</td>\n",
       "      <td>565.0</td>\n",
       "      <td>2.0</td>\n",
       "      <td>True</td>\n",
       "    </tr>\n",
       "  </tbody>\n",
       "</table>\n",
       "</div>"
      ],
      "text/plain": [
       "   HomePlanet  CryoSleep  Destination   Age  RoomService  FoodCourt  \\\n",
       "0           1          0            2  39.0          0.0        0.0   \n",
       "1           0          0            2  24.0        109.0        9.0   \n",
       "2           1          0            2  58.0         43.0     3576.0   \n",
       "3           1          0            2  33.0          0.0     1283.0   \n",
       "4           0          0            2  16.0        303.0       70.0   \n",
       "\n",
       "   ShoppingMall     Spa  VRDeck  Transported  \n",
       "0           0.0     0.0     0.0        False  \n",
       "1          25.0   549.0    44.0         True  \n",
       "2           0.0  6715.0    49.0        False  \n",
       "3         371.0  3329.0   193.0        False  \n",
       "4         151.0   565.0     2.0         True  "
      ]
     },
     "execution_count": 195,
     "metadata": {},
     "output_type": "execute_result"
    }
   ],
   "source": [
    "data_2.head()"
   ]
  },
  {
   "cell_type": "markdown",
   "id": "ba7f754c",
   "metadata": {},
   "source": [
    "## Create a Decision Tree Regression Model"
   ]
  },
  {
   "cell_type": "code",
   "execution_count": 196,
   "id": "945a5102",
   "metadata": {},
   "outputs": [
    {
     "data": {
      "image/png": "[encoded data removed]",
      "text/plain": [
       "<Figure size 800x600 with 1 Axes>"
      ]
     },
     "metadata": {},
     "output_type": "display_data"
    },
    {
     "name": "stdout",
     "output_type": "stream",
     "text": [
      "Accuracy: 0.7934973637961336\n",
      "Classification Report:\n",
      "               precision    recall  f1-score   support\n",
      "\n",
      "       False       0.83      0.85      0.84       723\n",
      "        True       0.73      0.69      0.71       415\n",
      "\n",
      "    accuracy                           0.79      1138\n",
      "   macro avg       0.78      0.77      0.77      1138\n",
      "weighted avg       0.79      0.79      0.79      1138\n",
      "\n"
     ]
    }
   ],
   "source": [
    "# select the features and target\n",
    "X = data_2.drop(columns = [\"Transported\"], axis = 1)\n",
    "y = data_2[\"Transported\"]\n",
    "\n",
    "# Preprocessing the data for both categorical and numerical features\n",
    "cat_features = ['HomePlanet', 'CryoSleep', 'Destination']\n",
    "num_features = ['Age', 'RoomService', 'FoodCourt', 'ShoppingMall', 'Spa', 'VRDeck']\n",
    "\n",
    "# create a preprocessor for categorical and numerical columns\n",
    "preprocessor = ColumnTransformer(transformers = [('num', StandardScaler(), num_features), \n",
    "                                                 ('cat', OneHotEncoder(), cat_features)])\n",
    "\n",
    "# create a Logistic regression pipeline\n",
    "pipeline = Pipeline([('preprocessor', preprocessor), \n",
    "                     ('classifier', LogisticRegression())])\n",
    "\n",
    "# Create the pipeline with preprocessing and model\n",
    "pipeline_1 = Pipeline(steps=[\n",
    "    ('preprocessor', preprocessor),\n",
    "    ('classifier', DecisionTreeClassifier(random_state=42))\n",
    "])\n",
    "\n",
    "# split the data into train and test set\n",
    "X_train, X_test, y_train, y_test = train_test_split(X, y, test_size = .2, random_state = 42)\n",
    "\n",
    "# Train the Logistic Regression model\n",
    "pipeline_1.fit(X_train, y_train)\n",
    "\n",
    "# get the predictions on the test set\n",
    "y_pred_prob = pipeline_1.predict(X_test)\n",
    "\n",
    "# ROC Curve\n",
    "plt.figure(figsize=(8, 6))\n",
    "fpr, tpr, _ = roc_curve(y_test, y_pred_prob)\n",
    "plt.plot(fpr, tpr, label='Decision Tree (AUC = ' + str(round(roc_auc_score(y_test, y_pred_prob), 2)) + ')')\n",
    "plt.plot([0, 1], [0, 1], 'k--')\n",
    "plt.xlabel('False Positive Rate')\n",
    "plt.ylabel('True Positive Rate')\n",
    "plt.title('ROC Curve (After SMOTE)')\n",
    "plt.legend()\n",
    "plt.show()\n",
    "\n",
    "# Lets evaluate the model\n",
    "print(\"Accuracy:\", accuracy_score(y_test, y_pred))\n",
    "print(\"Classification Report:\\n\",classification_report(y_test, y_pred))"
   ]
  },
  {
   "cell_type": "code",
   "execution_count": null,
   "id": "ccf9487b",
   "metadata": {},
   "outputs": [],
   "source": []
  },
  {
   "cell_type": "code",
   "execution_count": null,
   "id": "2f9c5b56",
   "metadata": {},
   "outputs": [],
   "source": []
  },
  {
   "cell_type": "markdown",
   "id": "f775a3fc",
   "metadata": {},
   "source": [
    "### Conclusion\n",
    "\n",
    "1. The passengers from Europa have the highest transportation rate with approximately 49.2% of them being transported from the \n",
    "   analysis.\n",
    "\n",
    "2. For the Passengers in CryoSleep (true) they have a 74.5% chances of being transported to another dimension which suggests that\n",
    "   passengers in Cryosleep were significantly more likely to be transported compared to those who \n",
    "\n",
    "3. From the analysis seems that the Elderly were transported more compared to the young teenagers \n",
    "\n",
    "4. "
   ]
  },
  {
   "cell_type": "code",
   "execution_count": null,
   "id": "4fe4ccba",
   "metadata": {},
   "outputs": [],
   "source": []
  },
  {
   "cell_type": "code",
   "execution_count": 197,
   "id": "ba17e551",
   "metadata": {},
   "outputs": [],
   "source": [
    "# # ROC Curve\n",
    "# plt.figure(figsize=(8, 6))\n",
    "# fpr, tpr, _ = roc_curve(y_test, y_pred_proba)\n",
    "# plt.plot(fpr, tpr, label='Decision Tree (AUC = ' + str(round(roc_auc_score(y_test, y_pred_proba), 2)) + ')')\n",
    "# plt.plot([0, 1], [0, 1], 'k--')\n",
    "# plt.xlabel('False Positive Rate')\n",
    "# plt.ylabel('True Positive Rate')\n",
    "# plt.title('ROC Curve (After SMOTE)')\n",
    "# plt.legend()\n",
    "# plt.show()"
   ]
  },
  {
   "cell_type": "code",
   "execution_count": 198,
   "id": "e5e45a8a",
   "metadata": {},
   "outputs": [],
   "source": [
    "# fit the model \n",
    "# logreg_model = LogisticRegression().fit(X_train_final, y_train)"
   ]
  },
  {
   "cell_type": "code",
   "execution_count": null,
   "id": "09824be9",
   "metadata": {},
   "outputs": [],
   "source": []
  },
  {
   "cell_type": "code",
   "execution_count": 18,
   "id": "6e7003c3-85c1-48cd-9e25-b519737ebb62",
   "metadata": {},
   "outputs": [],
   "source": []
  },
  {
   "cell_type": "code",
   "execution_count": null,
   "id": "f164149a",
   "metadata": {},
   "outputs": [],
   "source": []
  }
 ],
 "metadata": {
  "kernelspec": {
   "display_name": "learn-env",
   "language": "python",
   "name": "python3"
  },
  "language_info": {
   "codemirror_mode": {
    "name": "ipython",
    "version": 3
   },
   "file_extension": ".py",
   "mimetype": "text/x-python",
   "name": "python",
   "nbconvert_exporter": "python",
   "pygments_lexer": "ipython3",
   "version": "3.8.5"
  }
 },
 "nbformat": 4,
 "nbformat_minor": 5
}
